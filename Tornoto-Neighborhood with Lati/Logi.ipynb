{
    "nbformat_minor": 2, 
    "cells": [
        {
            "source": "# Read wikipedia page for Toronto neighborhood data and perform webscraping to extract the postal data", 
            "cell_type": "markdown", 
            "metadata": {}
        }, 
        {
            "execution_count": 37, 
            "cell_type": "code", 
            "metadata": {}, 
            "outputs": [
                {
                    "output_type": "stream", 
                    "name": "stdout", 
                    "text": "Requirement not upgraded as not directly required: BeautifulSoup4 in /opt/conda/envs/DSX-Python35/lib/python3.5/site-packages\nhttps://en.wikipedia.org/wiki/List_of_postal_codes_of_Canada:_M\n"
                }
            ], 
            "source": "!pip install BeautifulSoup4\nimport urllib.request\nfrom bs4 import BeautifulSoup\nimport csv\nurlpage = 'https://en.wikipedia.org/wiki/List_of_postal_codes_of_Canada:_M' \nprint(urlpage)"
        }, 
        {
            "source": "### Using urllib requests API read the webpage and extract the table and read the results", 
            "cell_type": "markdown", 
            "metadata": {}
        }, 
        {
            "execution_count": 38, 
            "cell_type": "code", 
            "metadata": {}, 
            "outputs": [
                {
                    "output_type": "stream", 
                    "name": "stdout", 
                    "text": "Number of results 290\n"
                }
            ], 
            "source": "# query the website and return the html to the variable 'page'\npage = urllib.request.urlopen(urlpage)\n# parse the html using beautiful soup and store in variable 'soup'\nsoup = BeautifulSoup(page, 'html.parser')\n# find results within table\ntable = soup.find('table', attrs={'class': 'wikitable sortable'})\nresults = table.find_all('tr')\nprint('Number of results', len(results))"
        }, 
        {
            "source": "### Main logic is part of the below cell where we read through the cells and extract the data and store them in a data frame.\n\n### we use df.ne to exclude the Borough that is 'Not assigned'.\n\n### we use group by and aggregate with join to group by postal code and add comma seperated values", 
            "cell_type": "markdown", 
            "metadata": {}
        }, 
        {
            "execution_count": 39, 
            "cell_type": "code", 
            "metadata": {}, 
            "outputs": [
                {
                    "execution_count": 39, 
                    "metadata": {}, 
                    "data": {
                        "text/html": "<div>\n<style scoped>\n    .dataframe tbody tr th:only-of-type {\n        vertical-align: middle;\n    }\n\n    .dataframe tbody tr th {\n        vertical-align: top;\n    }\n\n    .dataframe thead th {\n        text-align: right;\n    }\n</style>\n<table border=\"1\" class=\"dataframe\">\n  <thead>\n    <tr style=\"text-align: right;\">\n      <th></th>\n      <th>PostalCode</th>\n      <th>Borough</th>\n      <th>Neighborhood</th>\n    </tr>\n  </thead>\n  <tbody>\n    <tr>\n      <th>0</th>\n      <td>M1B</td>\n      <td>Scarborough</td>\n      <td>Malvern, Rouge</td>\n    </tr>\n    <tr>\n      <th>1</th>\n      <td>M1C</td>\n      <td>Scarborough</td>\n      <td>Rouge Hill, Port Union, Highland Creek</td>\n    </tr>\n    <tr>\n      <th>2</th>\n      <td>M1E</td>\n      <td>Scarborough</td>\n      <td>West Hill, Morningside, Guildwood</td>\n    </tr>\n    <tr>\n      <th>3</th>\n      <td>M1G</td>\n      <td>Scarborough</td>\n      <td>Woburn</td>\n    </tr>\n    <tr>\n      <th>4</th>\n      <td>M1H</td>\n      <td>Scarborough</td>\n      <td>Cedarbrae</td>\n    </tr>\n  </tbody>\n</table>\n</div>", 
                        "text/plain": "  PostalCode      Borough                            Neighborhood\n0        M1B  Scarborough                          Malvern, Rouge\n1        M1C  Scarborough  Rouge Hill, Port Union, Highland Creek\n2        M1E  Scarborough       West Hill, Morningside, Guildwood\n3        M1G  Scarborough                                  Woburn\n4        M1H  Scarborough                               Cedarbrae"
                    }, 
                    "output_type": "execute_result"
                }
            ], 
            "source": "postal_data = []\nCOLUMNS = ['PostalCode', 'Borough', 'Neighborhood']\nfor row in results:\n    cells = row.findAll('td')\n    if len(cells) == 0: \n        continue\n    postal_data.append([cell.text.strip('\\n') for cell in cells])\n    \ndf = pd.DataFrame(postal_data, columns=COLUMNS).reset_index(drop=True)\ndf = df.loc[df.Borough.ne('Not assigned')].reset_index(drop=True)\n#df_new = df.groupby(df['PostalCode']).agg(lambda x: ', '.join(set(x.dropna()))).reset_index(drop=True)\nneighborhoods = df.groupby('PostalCode', as_index=False).agg(lambda x: ', '.join(set(x.dropna()))).reset_index(drop=True)\nneighborhoods.head()"
        }, 
        {
            "execution_count": 40, 
            "cell_type": "code", 
            "metadata": {}, 
            "outputs": [
                {
                    "execution_count": 40, 
                    "metadata": {}, 
                    "data": {
                        "text/plain": "(103, 3)"
                    }, 
                    "output_type": "execute_result"
                }
            ], 
            "source": "neighborhoods.shape"
        }, 
        {
            "execution_count": 28, 
            "cell_type": "code", 
            "metadata": {}, 
            "outputs": [
                {
                    "output_type": "stream", 
                    "name": "stdout", 
                    "text": "Dataset downloaded and read into a pandas dataframe!\n"
                }
            ], 
            "source": "import numpy as np  # useful for many scientific computing in Python\nimport pandas as pd # primary data structure library\ndf_llc = pd.read_csv('http://cocl.us/Geospatial_data/Geospatial_Coordinates.csv')\n\nprint('Dataset downloaded and read into a pandas dataframe!')\n"
        }, 
        {
            "execution_count": 41, 
            "cell_type": "code", 
            "metadata": {}, 
            "outputs": [
                {
                    "execution_count": 41, 
                    "metadata": {}, 
                    "data": {
                        "text/html": "<div>\n<style scoped>\n    .dataframe tbody tr th:only-of-type {\n        vertical-align: middle;\n    }\n\n    .dataframe tbody tr th {\n        vertical-align: top;\n    }\n\n    .dataframe thead th {\n        text-align: right;\n    }\n</style>\n<table border=\"1\" class=\"dataframe\">\n  <thead>\n    <tr style=\"text-align: right;\">\n      <th></th>\n      <th>Postal Code</th>\n      <th>Latitude</th>\n      <th>Longitude</th>\n    </tr>\n  </thead>\n  <tbody>\n    <tr>\n      <th>0</th>\n      <td>M1B</td>\n      <td>43.806686</td>\n      <td>-79.194353</td>\n    </tr>\n    <tr>\n      <th>1</th>\n      <td>M1C</td>\n      <td>43.784535</td>\n      <td>-79.160497</td>\n    </tr>\n    <tr>\n      <th>2</th>\n      <td>M1E</td>\n      <td>43.763573</td>\n      <td>-79.188711</td>\n    </tr>\n    <tr>\n      <th>3</th>\n      <td>M1G</td>\n      <td>43.770992</td>\n      <td>-79.216917</td>\n    </tr>\n    <tr>\n      <th>4</th>\n      <td>M1H</td>\n      <td>43.773136</td>\n      <td>-79.239476</td>\n    </tr>\n  </tbody>\n</table>\n</div>", 
                        "text/plain": "  Postal Code   Latitude  Longitude\n0         M1B  43.806686 -79.194353\n1         M1C  43.784535 -79.160497\n2         M1E  43.763573 -79.188711\n3         M1G  43.770992 -79.216917\n4         M1H  43.773136 -79.239476"
                    }, 
                    "output_type": "execute_result"
                }
            ], 
            "source": "df_llc.head()"
        }, 
        {
            "execution_count": 42, 
            "cell_type": "code", 
            "metadata": {}, 
            "outputs": [], 
            "source": "neighborhoods['Latitude'] = neighborhoods['PostalCode'].map(df_llc.set_index('Postal Code')['Latitude']).fillna(0)\nneighborhoods['Longitude'] = neighborhoods['PostalCode'].map(df_llc.set_index('Postal Code')['Longitude']).fillna(0)"
        }, 
        {
            "execution_count": 43, 
            "cell_type": "code", 
            "metadata": {
                "scrolled": true
            }, 
            "outputs": [
                {
                    "execution_count": 43, 
                    "metadata": {}, 
                    "data": {
                        "text/html": "<div>\n<style scoped>\n    .dataframe tbody tr th:only-of-type {\n        vertical-align: middle;\n    }\n\n    .dataframe tbody tr th {\n        vertical-align: top;\n    }\n\n    .dataframe thead th {\n        text-align: right;\n    }\n</style>\n<table border=\"1\" class=\"dataframe\">\n  <thead>\n    <tr style=\"text-align: right;\">\n      <th></th>\n      <th>PostalCode</th>\n      <th>Borough</th>\n      <th>Neighborhood</th>\n      <th>Latitude</th>\n      <th>Longitude</th>\n    </tr>\n  </thead>\n  <tbody>\n    <tr>\n      <th>0</th>\n      <td>M1B</td>\n      <td>Scarborough</td>\n      <td>Malvern, Rouge</td>\n      <td>43.806686</td>\n      <td>-79.194353</td>\n    </tr>\n    <tr>\n      <th>1</th>\n      <td>M1C</td>\n      <td>Scarborough</td>\n      <td>Rouge Hill, Port Union, Highland Creek</td>\n      <td>43.784535</td>\n      <td>-79.160497</td>\n    </tr>\n    <tr>\n      <th>2</th>\n      <td>M1E</td>\n      <td>Scarborough</td>\n      <td>West Hill, Morningside, Guildwood</td>\n      <td>43.763573</td>\n      <td>-79.188711</td>\n    </tr>\n    <tr>\n      <th>3</th>\n      <td>M1G</td>\n      <td>Scarborough</td>\n      <td>Woburn</td>\n      <td>43.770992</td>\n      <td>-79.216917</td>\n    </tr>\n    <tr>\n      <th>4</th>\n      <td>M1H</td>\n      <td>Scarborough</td>\n      <td>Cedarbrae</td>\n      <td>43.773136</td>\n      <td>-79.239476</td>\n    </tr>\n  </tbody>\n</table>\n</div>", 
                        "text/plain": "  PostalCode      Borough                            Neighborhood   Latitude  \\\n0        M1B  Scarborough                          Malvern, Rouge  43.806686   \n1        M1C  Scarborough  Rouge Hill, Port Union, Highland Creek  43.784535   \n2        M1E  Scarborough       West Hill, Morningside, Guildwood  43.763573   \n3        M1G  Scarborough                                  Woburn  43.770992   \n4        M1H  Scarborough                               Cedarbrae  43.773136   \n\n   Longitude  \n0 -79.194353  \n1 -79.160497  \n2 -79.188711  \n3 -79.216917  \n4 -79.239476  "
                    }, 
                    "output_type": "execute_result"
                }
            ], 
            "source": "neighborhoods.head()"
        }, 
        {
            "source": "### Filter out the dataframe that contains the word 'Toronoto' and move it to 'neighborhoods' data frame", 
            "cell_type": "markdown", 
            "metadata": {}
        }, 
        {
            "execution_count": 45, 
            "cell_type": "code", 
            "metadata": {}, 
            "outputs": [
                {
                    "execution_count": 45, 
                    "metadata": {}, 
                    "data": {
                        "text/html": "<div>\n<style scoped>\n    .dataframe tbody tr th:only-of-type {\n        vertical-align: middle;\n    }\n\n    .dataframe tbody tr th {\n        vertical-align: top;\n    }\n\n    .dataframe thead th {\n        text-align: right;\n    }\n</style>\n<table border=\"1\" class=\"dataframe\">\n  <thead>\n    <tr style=\"text-align: right;\">\n      <th></th>\n      <th>PostalCode</th>\n      <th>Borough</th>\n      <th>Neighborhood</th>\n      <th>Latitude</th>\n      <th>Longitude</th>\n    </tr>\n  </thead>\n  <tbody>\n    <tr>\n      <th>0</th>\n      <td>M4E</td>\n      <td>East Toronto</td>\n      <td>The Beaches</td>\n      <td>43.676357</td>\n      <td>-79.293031</td>\n    </tr>\n    <tr>\n      <th>1</th>\n      <td>M4K</td>\n      <td>East Toronto</td>\n      <td>Riverdale, The Danforth West</td>\n      <td>43.679557</td>\n      <td>-79.352188</td>\n    </tr>\n    <tr>\n      <th>2</th>\n      <td>M4L</td>\n      <td>East Toronto</td>\n      <td>India Bazaar, The Beaches West</td>\n      <td>43.668999</td>\n      <td>-79.315572</td>\n    </tr>\n    <tr>\n      <th>3</th>\n      <td>M4M</td>\n      <td>East Toronto</td>\n      <td>Studio District</td>\n      <td>43.659526</td>\n      <td>-79.340923</td>\n    </tr>\n    <tr>\n      <th>4</th>\n      <td>M4N</td>\n      <td>Central Toronto</td>\n      <td>Lawrence Park</td>\n      <td>43.728020</td>\n      <td>-79.388790</td>\n    </tr>\n  </tbody>\n</table>\n</div>", 
                        "text/plain": "  PostalCode          Borough                    Neighborhood   Latitude  \\\n0        M4E     East Toronto                     The Beaches  43.676357   \n1        M4K     East Toronto    Riverdale, The Danforth West  43.679557   \n2        M4L     East Toronto  India Bazaar, The Beaches West  43.668999   \n3        M4M     East Toronto                 Studio District  43.659526   \n4        M4N  Central Toronto                   Lawrence Park  43.728020   \n\n   Longitude  \n0 -79.293031  \n1 -79.352188  \n2 -79.315572  \n3 -79.340923  \n4 -79.388790  "
                    }, 
                    "output_type": "execute_result"
                }
            ], 
            "source": "import pandas as pd # library for data analsysis\ntoronto_data = neighborhoods[neighborhoods['Borough'].str.contains('Toronto')].reset_index(drop=True)\n#neighborhoods = pd.DataFrame(df_new)\ntoronto_data.head()"
        }, 
        {
            "execution_count": 16, 
            "cell_type": "code", 
            "metadata": {}, 
            "outputs": [
                {
                    "output_type": "stream", 
                    "name": "stdout", 
                    "text": "Fetching package metadata .............\nSolving package specifications: .\n\nPackage plan for installation in environment /opt/conda/envs/DSX-Python35:\n\nThe following NEW packages will be INSTALLED:\n\n    geographiclib: 1.49-py_0   conda-forge\n    geopy:         1.18.1-py_0 conda-forge\n\ngeographiclib- 100% |################################| Time: 0:00:00  22.37 MB/s\ngeopy-1.18.1-p 100% |################################| Time: 0:00:00  31.69 MB/s\nFetching package metadata .............\nSolving package specifications: .\n\nPackage plan for installation in environment /opt/conda/envs/DSX-Python35:\n\nThe following NEW packages will be INSTALLED:\n\n    altair:  2.2.2-py35_1 conda-forge\n    branca:  0.3.1-py_0   conda-forge\n    folium:  0.5.0-py_0   conda-forge\n    vincent: 0.4.4-py_1   conda-forge\n\naltair-2.2.2-p 100% |################################| Time: 0:00:00  40.24 MB/s\nbranca-0.3.1-p 100% |################################| Time: 0:00:00  27.68 MB/s\nvincent-0.4.4- 100% |################################| Time: 0:00:00  31.15 MB/s\nfolium-0.5.0-p 100% |################################| Time: 0:00:00  33.93 MB/s\nLibraries imported.\n"
                }
            ], 
            "source": "import numpy as np # library to handle data in a vectorized manner\n\nimport pandas as pd # library for data analsysis\npd.set_option('display.max_columns', None)\npd.set_option('display.max_rows', None)\n\nimport json # library to handle JSON files\n\n!conda install -c conda-forge geopy --yes # uncomment this line if you haven't completed the Foursquare API lab\nfrom geopy.geocoders import Nominatim # convert an address into latitude and longitude values\n\nimport requests # library to handle requests\nfrom pandas.io.json import json_normalize # tranform JSON file into a pandas dataframe\n\n# Matplotlib and associated plotting modules\nimport matplotlib.cm as cm\nimport matplotlib.colors as colors\n\n# import k-means from clustering stage\nfrom sklearn.cluster import KMeans\n\n!conda install -c conda-forge folium=0.5.0 --yes # uncomment this line if you haven't completed the Foursquare API lab\nimport folium # map rendering library\n\nprint('Libraries imported.')"
        }, 
        {
            "execution_count": 34, 
            "cell_type": "code", 
            "metadata": {}, 
            "outputs": [
                {
                    "output_type": "stream", 
                    "name": "stderr", 
                    "text": "/opt/conda/envs/DSX-Python35/lib/python3.5/site-packages/ipykernel/__main__.py:3: DeprecationWarning: Using Nominatim with the default \"geopy/1.18.1\" `user_agent` is strongly discouraged, as it violates Nominatim's ToS https://operations.osmfoundation.org/policies/nominatim/ and may possibly cause 403 and 429 HTTP errors. Please specify a custom `user_agent` with `Nominatim(user_agent=\"my-application\")` or by overriding the default `user_agent`: `geopy.geocoders.options.default_user_agent = \"my-application\"`. In geopy 2.0 this will become an exception.\n  app.launch_new_instance()\n"
                }, 
                {
                    "output_type": "stream", 
                    "name": "stdout", 
                    "text": "The geograpical coordinate of Toronto are 43.653963, -79.387207.\n"
                }
            ], 
            "source": "address = 'Toronto, ON'\n\ngeolocator = Nominatim()\nlocation = geolocator.geocode(address)\nlatitude = location.latitude\nlongitude = location.longitude\nprint('The geograpical coordinate of Toronto are {}, {}.'.format(latitude, longitude))"
        }, 
        {
            "source": "Let's visualize Toronto neighborhoods.", 
            "cell_type": "markdown", 
            "metadata": {}
        }, 
        {
            "execution_count": 46, 
            "cell_type": "code", 
            "metadata": {
                "scrolled": true
            }, 
            "outputs": [
                {
                    "execution_count": 46, 
                    "metadata": {}, 
                    "data": {
                        "text/html": "<div style=\"width:100%;\"><div style=\"position:relative;width:100%;height:0;padding-bottom:60%;\"><iframe src=\"data:text/html;charset=utf-8;base64,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\" style=\"position:absolute;width:100%;height:100%;left:0;top:0;border:none !important;\" allowfullscreen webkitallowfullscreen mozallowfullscreen></iframe></div></div>", 
                        "text/plain": "<folium.folium.Map at 0x2b7fa3445d68>"
                    }, 
                    "output_type": "execute_result"
                }
            ], 
            "source": "# create map of Manhattan using latitude and longitude values\nmap_toronto = folium.Map(location=[latitude, longitude], zoom_start=11)\n\n# add markers to map\nfor lat, lng, label in zip(toronto_data['Latitude'], toronto_data['Longitude'], toronto_data['Neighborhood']):\n    label = folium.Popup(label, parse_html=True)\n    folium.CircleMarker(\n        [lat, lng],\n        radius=5,\n        popup=label,\n        color='blue',\n        fill=True,\n        fill_color='#3186cc',\n        fill_opacity=0.7,\n        parse_html=False).add_to(map_manhattan)  \n    \nmap_toronto"
        }, 
        {
            "source": "Next, we are going to start utilizing the Foursquare API to explore the neighborhoods and segment them.", 
            "cell_type": "markdown", 
            "metadata": {}
        }, 
        {
            "source": "#### Define Foursquare Credentials and Version", 
            "cell_type": "markdown", 
            "metadata": {}
        }, 
        {
            "execution_count": 47, 
            "cell_type": "code", 
            "metadata": {}, 
            "outputs": [
                {
                    "output_type": "stream", 
                    "name": "stdout", 
                    "text": "Your credentails:\nCLIENT_ID: QMAJMFICCDBVSWUHPSBBALBKYGVWJQOAEF11DA4BNOBZ23XO\nCLIENT_SECRET:3JN54DEWNJNVNIPYUV0K4FUSIK02OJMB0S4CFMZEYRIIFKMV\n"
                }
            ], 
            "source": "CLIENT_ID = 'QMAJMFICCDBVSWUHPSBBALBKYGVWJQOAEF11DA4BNOBZ23XO' # your Foursquare ID\nCLIENT_SECRET = '3JN54DEWNJNVNIPYUV0K4FUSIK02OJMB0S4CFMZEYRIIFKMV' # your Foursquare Secret\nVERSION = '20180605' # Foursquare API version\n\nprint('Your credentails:')\nprint('CLIENT_ID: ' + CLIENT_ID)\nprint('CLIENT_SECRET:' + CLIENT_SECRET)"
        }, 
        {
            "source": "#### Let's explore the first neighborhood in our dataframe.", 
            "cell_type": "markdown", 
            "metadata": {}
        }, 
        {
            "source": "Get the neighborhood's name.", 
            "cell_type": "markdown", 
            "metadata": {}
        }, 
        {
            "execution_count": 48, 
            "cell_type": "code", 
            "metadata": {}, 
            "outputs": [
                {
                    "execution_count": 48, 
                    "metadata": {}, 
                    "data": {
                        "text/plain": "'The Beaches'"
                    }, 
                    "output_type": "execute_result"
                }
            ], 
            "source": "toronto_data.loc[0, 'Neighborhood']"
        }, 
        {
            "source": "Get the neighborhood's latitude and longitude values.", 
            "cell_type": "markdown", 
            "metadata": {}
        }, 
        {
            "execution_count": 49, 
            "cell_type": "code", 
            "metadata": {}, 
            "outputs": [
                {
                    "output_type": "stream", 
                    "name": "stdout", 
                    "text": "Latitude and longitude values of The Beaches are 43.67635739999999, -79.2930312.\n"
                }
            ], 
            "source": "neighborhood_latitude = toronto_data.loc[0, 'Latitude'] # neighborhood latitude value\nneighborhood_longitude = toronto_data.loc[0, 'Longitude'] # neighborhood longitude value\n\nneighborhood_name = toronto_data.loc[0, 'Neighborhood'] # neighborhood name\n\nprint('Latitude and longitude values of {} are {}, {}.'.format(neighborhood_name, \n                                                               neighborhood_latitude, \n                                                               neighborhood_longitude))"
        }, 
        {
            "source": "#### Now, let's get the top 100 venues that are in The Beaches within a radius of 500 meters.", 
            "cell_type": "markdown", 
            "metadata": {}
        }, 
        {
            "source": "First, let's create the GET request URL. Name your URL **url**.", 
            "cell_type": "markdown", 
            "metadata": {}
        }, 
        {
            "execution_count": 50, 
            "cell_type": "code", 
            "metadata": {}, 
            "outputs": [
                {
                    "execution_count": 50, 
                    "metadata": {}, 
                    "data": {
                        "text/plain": "'https://api.foursquare.com/v2/venues/explore?client_id=QMAJMFICCDBVSWUHPSBBALBKYGVWJQOAEF11DA4BNOBZ23XO&client_secret=3JN54DEWNJNVNIPYUV0K4FUSIK02OJMB0S4CFMZEYRIIFKMV&ll=43.67635739999999,-79.2930312&v=20180605&radius=500&limit=100'"
                    }, 
                    "output_type": "execute_result"
                }
            ], 
            "source": "latitude = 43.67635739999999\nlongitude = -79.2930312\nLIMIT=100\nradius=500\nurl = 'https://api.foursquare.com/v2/venues/explore?client_id={}&client_secret={}&ll={},{}&v={}&radius={}&limit={}'.format(CLIENT_ID, CLIENT_SECRET, latitude, longitude, VERSION, radius, LIMIT)\nurl"
        }, 
        {
            "source": "Send the GET request and examine the resutls", 
            "cell_type": "markdown", 
            "metadata": {}
        }, 
        {
            "execution_count": 51, 
            "cell_type": "code", 
            "metadata": {}, 
            "outputs": [
                {
                    "execution_count": 51, 
                    "metadata": {}, 
                    "data": {
                        "text/plain": "{'meta': {'code': 200, 'requestId': '5c23c548db04f53ab7bb0559'},\n 'response': {'groups': [{'items': [{'reasons': {'count': 0,\n       'items': [{'reasonName': 'globalInteractionReason',\n         'summary': 'This spot is popular',\n         'type': 'general'}]},\n      'referralId': 'e-0-4b8daea1f964a520480833e3-0',\n      'venue': {'categories': [{'icon': {'prefix': 'https://ss3.4sqi.net/img/categories_v2/nightlife/pub_',\n          'suffix': '.png'},\n         'id': '4bf58dd8d48988d11b941735',\n         'name': 'Pub',\n         'pluralName': 'Pubs',\n         'primary': True,\n         'shortName': 'Pub'}],\n       'id': '4b8daea1f964a520480833e3',\n       'location': {'address': '676 Kingston Rd.',\n        'cc': 'CA',\n        'city': 'Toronto',\n        'country': 'Canada',\n        'crossStreet': 'at Main St.',\n        'distance': 460,\n        'formattedAddress': ['676 Kingston Rd. (at Main St.)',\n         'Toronto ON M4E 1R4',\n         'Canada'],\n        'labeledLatLngs': [{'label': 'display',\n          'lat': 43.679181434941015,\n          'lng': -79.29721535878515}],\n        'lat': 43.679181434941015,\n        'lng': -79.29721535878515,\n        'postalCode': 'M4E 1R4',\n        'state': 'ON'},\n       'name': 'Grover Pub and Grub',\n       'photos': {'count': 0, 'groups': []}}},\n     {'reasons': {'count': 0,\n       'items': [{'reasonName': 'globalInteractionReason',\n         'summary': 'This spot is popular',\n         'type': 'general'}]},\n      'referralId': 'e-0-4e77e3861f6ecf8d3648300c-1',\n      'venue': {'categories': [{'icon': {'prefix': 'https://ss3.4sqi.net/img/categories_v2/food/coffeeshop_',\n          'suffix': '.png'},\n         'id': '4bf58dd8d48988d1e0931735',\n         'name': 'Coffee Shop',\n         'pluralName': 'Coffee Shops',\n         'primary': True,\n         'shortName': 'Coffee Shop'}],\n       'id': '4e77e3861f6ecf8d3648300c',\n       'location': {'address': '637 Kingston Rd.',\n        'cc': 'CA',\n        'city': 'Toronto',\n        'country': 'Canada',\n        'crossStreet': 'at Main St.',\n        'distance': 486,\n        'formattedAddress': ['637 Kingston Rd. (at Main St.)',\n         'Toronto ON M4E 1R3',\n         'Canada'],\n        'labeledLatLngs': [{'label': 'display',\n          'lat': 43.67879837444001,\n          'lng': -79.2980449760153}],\n        'lat': 43.67879837444001,\n        'lng': -79.2980449760153,\n        'postalCode': 'M4E 1R3',\n        'state': 'ON'},\n       'name': 'Starbucks',\n       'photos': {'count': 0, 'groups': []}}},\n     {'reasons': {'count': 0,\n       'items': [{'reasonName': 'globalInteractionReason',\n         'summary': 'This spot is popular',\n         'type': 'general'}]},\n      'referralId': 'e-0-56afcad6498e05333bf42031-2',\n      'venue': {'categories': [{'icon': {'prefix': 'https://ss3.4sqi.net/img/categories_v2/parks_outdoors/outdoors_',\n          'suffix': '.png'},\n         'id': '4bf58dd8d48988d162941735',\n         'name': 'Other Great Outdoors',\n         'pluralName': 'Other Great Outdoors',\n         'primary': True,\n         'shortName': 'Other Outdoors'}],\n       'id': '56afcad6498e05333bf42031',\n       'location': {'cc': 'CA',\n        'country': 'Canada',\n        'distance': 141,\n        'formattedAddress': ['Canada'],\n        'labeledLatLngs': [{'label': 'display',\n          'lat': 43.67629984029563,\n          'lng': -79.2947841389563}],\n        'lat': 43.67629984029563,\n        'lng': -79.2947841389563},\n       'name': 'Glen Stewart Ravine',\n       'photos': {'count': 0, 'groups': []}}},\n     {'reasons': {'count': 0,\n       'items': [{'reasonName': 'globalInteractionReason',\n         'summary': 'This spot is popular',\n         'type': 'general'}]},\n      'referralId': 'e-0-4df91c4bae60f95f82229ad5-3',\n      'venue': {'categories': [{'icon': {'prefix': 'https://ss3.4sqi.net/img/categories_v2/parks_outdoors/neighborhood_',\n          'suffix': '.png'},\n         'id': '4f2a25ac4b909258e854f55f',\n         'name': 'Neighborhood',\n         'pluralName': 'Neighborhoods',\n         'primary': True,\n         'shortName': 'Neighborhood'}],\n       'id': '4df91c4bae60f95f82229ad5',\n       'location': {'cc': 'CA',\n        'city': 'Toronto',\n        'country': 'Canada',\n        'distance': 468,\n        'formattedAddress': ['Toronto ON', 'Canada'],\n        'labeledLatLngs': [{'label': 'display',\n          'lat': 43.68056321147582,\n          'lng': -79.2928688743688}],\n        'lat': 43.68056321147582,\n        'lng': -79.2928688743688,\n        'state': 'ON'},\n       'name': 'Upper Beaches',\n       'photos': {'count': 0, 'groups': []}}}],\n    'name': 'recommended',\n    'type': 'Recommended Places'}],\n  'headerFullLocation': 'The Beaches, Toronto',\n  'headerLocation': 'The Beaches',\n  'headerLocationGranularity': 'neighborhood',\n  'suggestedBounds': {'ne': {'lat': 43.680857404499996,\n    'lng': -79.28682091449052},\n   'sw': {'lat': 43.67185739549999, 'lng': -79.29924148550948}},\n  'suggestedFilters': {'filters': [{'key': 'openNow', 'name': 'Open now'}],\n   'header': 'Tap to show:'},\n  'totalResults': 4}}"
                    }, 
                    "output_type": "execute_result"
                }
            ], 
            "source": "results = requests.get(url).json()\nresults"
        }, 
        {
            "source": "let's borrow the **get_category_type** function from the Foursquare lab.", 
            "cell_type": "markdown", 
            "metadata": {}
        }, 
        {
            "execution_count": 52, 
            "cell_type": "code", 
            "metadata": {}, 
            "outputs": [], 
            "source": "# function that extracts the category of the venue\ndef get_category_type(row):\n    try:\n        categories_list = row['categories']\n    except:\n        categories_list = row['venue.categories']\n        \n    if len(categories_list) == 0:\n        return None\n    else:\n        return categories_list[0]['name']"
        }, 
        {
            "source": "Now we are ready to clean the json and structure it into a *pandas* dataframe.", 
            "cell_type": "markdown", 
            "metadata": {}
        }, 
        {
            "execution_count": null, 
            "cell_type": "code", 
            "metadata": {}, 
            "outputs": [], 
            "source": ""
        }
    ], 
    "metadata": {
        "kernelspec": {
            "display_name": "Python 3.5", 
            "name": "python3", 
            "language": "python"
        }, 
        "language_info": {
            "mimetype": "text/x-python", 
            "nbconvert_exporter": "python", 
            "version": "3.5.5", 
            "name": "python", 
            "file_extension": ".py", 
            "pygments_lexer": "ipython3", 
            "codemirror_mode": {
                "version": 3, 
                "name": "ipython"
            }
        }
    }, 
    "nbformat": 4
}