{
    "nbformat_minor": 2, 
    "cells": [
        {
            "source": "# Read wikipedia page for Toronto neighborhood data and perform webscraping to extract the postal data", 
            "cell_type": "markdown", 
            "metadata": {}
        }, 
        {
            "execution_count": 63, 
            "cell_type": "code", 
            "metadata": {}, 
            "outputs": [
                {
                    "output_type": "stream", 
                    "name": "stdout", 
                    "text": "Requirement already satisfied: BeautifulSoup4 in /home/jupyterlab/conda/lib/python3.6/site-packages (4.6.3)\nhttps://en.wikipedia.org/wiki/List_of_postal_codes_of_Canada:_M\n"
                }
            ], 
            "source": "!pip install BeautifulSoup4\nimport urllib.request\nfrom bs4 import BeautifulSoup\nimport csv\nurlpage = 'https://en.wikipedia.org/wiki/List_of_postal_codes_of_Canada:_M' \nprint(urlpage)"
        }, 
        {
            "source": "### Using urllib requests API read the webpage and extract the table and read the results", 
            "cell_type": "markdown", 
            "metadata": {}
        }, 
        {
            "execution_count": 4, 
            "cell_type": "code", 
            "metadata": {}, 
            "outputs": [
                {
                    "output_type": "stream", 
                    "name": "stdout", 
                    "text": "Number of results 290\n"
                }
            ], 
            "source": "# query the website and return the html to the variable 'page'\npage = urllib.request.urlopen(urlpage)\n# parse the html using beautiful soup and store in variable 'soup'\nsoup = BeautifulSoup(page, 'html.parser')\n# find results within table\ntable = soup.find('table', attrs={'class': 'wikitable sortable'})\nresults = table.find_all('tr')\nprint('Number of results', len(results))"
        }, 
        {
            "source": "### Main logic is part of the below cell where we read through the cells and extract the data and store them in a data frame.\n\n### we use df.ne to exclude the Borough that is 'Not assigned'.\n\n### we use group by and aggregate with join to group by postal code and add comma seperated values", 
            "cell_type": "markdown", 
            "metadata": {}
        }, 
        {
            "execution_count": 65, 
            "cell_type": "code", 
            "metadata": {}, 
            "outputs": [
                {
                    "execution_count": 65, 
                    "metadata": {}, 
                    "data": {
                        "text/html": "<div>\n<style scoped>\n    .dataframe tbody tr th:only-of-type {\n        vertical-align: middle;\n    }\n\n    .dataframe tbody tr th {\n        vertical-align: top;\n    }\n\n    .dataframe thead th {\n        text-align: right;\n    }\n</style>\n<table border=\"1\" class=\"dataframe\">\n  <thead>\n    <tr style=\"text-align: right;\">\n      <th></th>\n      <th>PostalCode</th>\n      <th>Borough</th>\n      <th>Neighbourhood</th>\n    </tr>\n  </thead>\n  <tbody>\n    <tr>\n      <th>0</th>\n      <td>M1B</td>\n      <td>Scarborough</td>\n      <td>Malvern, Rouge</td>\n    </tr>\n    <tr>\n      <th>1</th>\n      <td>M1C</td>\n      <td>Scarborough</td>\n      <td>Highland Creek, Rouge Hill, Port Union</td>\n    </tr>\n    <tr>\n      <th>2</th>\n      <td>M1E</td>\n      <td>Scarborough</td>\n      <td>Morningside, Guildwood, West Hill</td>\n    </tr>\n    <tr>\n      <th>3</th>\n      <td>M1G</td>\n      <td>Scarborough</td>\n      <td>Woburn</td>\n    </tr>\n    <tr>\n      <th>4</th>\n      <td>M1H</td>\n      <td>Scarborough</td>\n      <td>Cedarbrae</td>\n    </tr>\n  </tbody>\n</table>\n</div>", 
                        "text/plain": "  PostalCode      Borough                           Neighbourhood\n0        M1B  Scarborough                          Malvern, Rouge\n1        M1C  Scarborough  Highland Creek, Rouge Hill, Port Union\n2        M1E  Scarborough       Morningside, Guildwood, West Hill\n3        M1G  Scarborough                                  Woburn\n4        M1H  Scarborough                               Cedarbrae"
                    }, 
                    "output_type": "execute_result"
                }
            ], 
            "source": "postal_data = []\nCOLUMNS = ['PostalCode', 'Borough', 'Neighbourhood']\nfor row in results:\n    cells = row.findAll('td')\n    if len(cells) == 0: \n        continue\n    postal_data.append([cell.text.strip('\\n') for cell in cells])\n    \ndf = pd.DataFrame(postal_data, columns=COLUMNS).reset_index(drop=True)\ndf = df.loc[df.Borough.ne('Not assigned')].reset_index(drop=True)\n#df_new = df.groupby(df['PostalCode']).agg(lambda x: ', '.join(set(x.dropna()))).reset_index(drop=True)\ndf_new = df.groupby('PostalCode', as_index=False).agg(lambda x: ', '.join(set(x.dropna()))).reset_index(drop=True)\ndf_new.head()"
        }, 
        {
            "execution_count": 66, 
            "cell_type": "code", 
            "metadata": {}, 
            "outputs": [
                {
                    "execution_count": 66, 
                    "metadata": {}, 
                    "data": {
                        "text/plain": "(103, 3)"
                    }, 
                    "output_type": "execute_result"
                }
            ], 
            "source": "df_new.shape"
        }
    ], 
    "metadata": {
        "kernelspec": {
            "display_name": "Python 3", 
            "name": "python3", 
            "language": "python"
        }, 
        "language_info": {
            "mimetype": "text/x-python", 
            "nbconvert_exporter": "python", 
            "version": "3.6.6", 
            "name": "python", 
            "file_extension": ".py", 
            "pygments_lexer": "ipython3", 
            "codemirror_mode": {
                "version": 3, 
                "name": "ipython"
            }
        }
    }, 
    "nbformat": 4
}