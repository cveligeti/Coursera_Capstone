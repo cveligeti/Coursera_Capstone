{
    "nbformat_minor": 1, 
    "cells": [
        {
            "source": "# Problem:\n\nUsing user review data from FourSquare, our aim was to develop a recommendation system to provide a <span style=\"text-decoration:underline\">new restaurant suggestion</span> for New York, NY where users might like. Given the diverse application of this problem, I wanted to learn how to develop and implement such system using machine learning. Below, we graphically illustrate our project goal.\n\nCurrently there is a gap in the restaurant recommendation applications market.  Virtually no application offers users the possibility of creating an account in order to receive proper recommendations based on his tastes or previous experiences.  There are, however, applications focused on a niche segments like giving users the possibility of reviewing places or getting them based on how expressive they are, but at the end of the day these applications are nothing more than aggregators.\n\nMany applications on this segment like Zomato Yelp have the ability of rating, reviewing and how it is getting the information to the end user.\n\nThese applications take advantage of the fact that users increasingly place their trust in reviews that are coming from more people and some of them offer the possibility of creating an account and keeping track of submitted reviews, ratings and past experiences.  However, not one of them can or would recommend users places based on their past experiences.", 
            "cell_type": "markdown", 
            "metadata": {
                "collapsed": true
            }
        }, 
        {
            "execution_count": null, 
            "cell_type": "code", 
            "metadata": {}, 
            "outputs": [], 
            "source": ""
        }
    ], 
    "metadata": {
        "kernelspec": {
            "display_name": "Python 3.5", 
            "name": "python3", 
            "language": "python"
        }, 
        "language_info": {
            "mimetype": "text/x-python", 
            "nbconvert_exporter": "python", 
            "version": "3.5.5", 
            "name": "python", 
            "file_extension": ".py", 
            "pygments_lexer": "ipython3", 
            "codemirror_mode": {
                "version": 3, 
                "name": "ipython"
            }
        }
    }, 
    "nbformat": 4
}