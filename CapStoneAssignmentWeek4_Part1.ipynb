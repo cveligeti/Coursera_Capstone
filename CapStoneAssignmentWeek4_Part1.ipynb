{
    "nbformat_minor": 1, 
    "cells": [
        {
            "source": "# Problem:\n\nOur client, a well-established meat supplier in New York, NY area. His clients are hotels, restaurants and bars. Currently, the various meats are stored in some big central cold storages outside New York city and distributed in the different venues on a daily basis. \nThe main problem of this business plan is that the distribution of the meat product becomes time consuming, inefficient, and costly. Our client wants to reduce the costs of distribution of meat by building 5 smaller cold storage factories in New York city to serve locally his clients. This approach will reduce the time which is required to serve his clients, the fuel costs, and will also transform his business to a green chain. \nTo do so, our client asked from us to find the 5 best locations in New York city at which the cold storage must be built to create smaller distribution clusters. The storage locations must be at the centers of these clusters to minimize the relative distance from each of the venues.", 
            "cell_type": "markdown", 
            "metadata": {
                "collapsed": true
            }
        }, 
        {
            "execution_count": null, 
            "cell_type": "code", 
            "metadata": {}, 
            "outputs": [], 
            "source": ""
        }
    ], 
    "metadata": {
        "kernelspec": {
            "display_name": "Python 3.5", 
            "name": "python3", 
            "language": "python"
        }, 
        "language_info": {
            "mimetype": "text/x-python", 
            "nbconvert_exporter": "python", 
            "version": "3.5.5", 
            "name": "python", 
            "file_extension": ".py", 
            "pygments_lexer": "ipython3", 
            "codemirror_mode": {
                "version": 3, 
                "name": "ipython"
            }
        }
    }, 
    "nbformat": 4
}